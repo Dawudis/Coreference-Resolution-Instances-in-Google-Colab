{
  "nbformat": 4,
  "nbformat_minor": 0,
  "metadata": {
    "colab": {
      "name": "Coref. Resolution on Summarized Article",
      "provenance": [],
      "authorship_tag": "ABX9TyNqryGQV1lT07vhk4IlacM2",
      "include_colab_link": true
    },
    "kernelspec": {
      "name": "python3",
      "display_name": "Python 3"
    },
    "language_info": {
      "name": "python"
    }
  },
  "cells": [
    {
      "cell_type": "markdown",
      "metadata": {
        "id": "view-in-github",
        "colab_type": "text"
      },
      "source": [
        "<a href=\"https://colab.research.google.com/github/Dawudis/Coreference-Resolution-Instances-in-Google-Colab/blob/main/Coref_Resolution_on_Summarized_Article.ipynb\" target=\"_parent\"><img src=\"https://colab.research.google.com/assets/colab-badge.svg\" alt=\"Open In Colab\"/></a>"
      ]
    },
    {
      "cell_type": "markdown",
      "source": [
        "## **Scrape Article**"
      ],
      "metadata": {
        "id": "dP6-s4c9ueaG"
      }
    },
    {
      "cell_type": "code",
      "execution_count": null,
      "metadata": {
        "id": "hzD3brkGpDhn"
      },
      "outputs": [],
      "source": [
        "!pip install news-please"
      ]
    },
    {
      "cell_type": "code",
      "source": [
        "from newsplease import NewsPlease\n",
        "article = NewsPlease.from_url('https://www.nytimes.com/2021/12/10/business/biden-economy-growth-jobs.html')\n",
        "print(article.maintext)"
      ],
      "metadata": {
        "id": "pS1tj1WApF-E",
        "colab": {
          "base_uri": "https://localhost:8080/"
        },
        "outputId": "99e93c08-053e-4c5c-b0cb-3b356d45374e"
      },
      "execution_count": 2,
      "outputs": [
        {
          "output_type": "stream",
          "name": "stdout",
          "text": [
            "Polls suggest that the disconnect between the president’s view of the economy and that of voters could pose political problems for Mr. Biden and fellow Democrats in the 2022 elections. But Mr. Biden’s team is undeterred. They see the economy showing signs of what liberal economists have long said is the recipe for delivering the full gains of economic growth to low-paid and middle-class workers, even after factoring in rising prices.\n",
            "The ingredients include a tight labor market, where job openings far outnumber job seekers and employers are forced to raise wages for workers in retail stores and restaurants. And they include robust government aid programs over the last two years that have helped American workers build up savings, pay down debt and avoid the threat of eviction or foreclosure.\n",
            "Officials point to estimates by Arindrajit Dube, an economist at the University of Massachusetts at Amherst, that find the lowest-paid 70 percent of American workers have seen wage increases over the last two years even after accounting for inflation. They say the raises and pandemic aid programs, including direct checks to low- and middle-income households and an expanded tax credit for parents that has been delivered in monthly payments, have given typical households an inflation-adjusted increase in how much money they have to spend.\n",
            "Administration aides read those statistics, and some survey data like Americans’ belief that jobs are plentiful, as evidence that people are happier with their economic situations than would be expected from reading and watching what they call unbalanced coverage of the economy in the news media.\n",
            "“I have never seen a stronger labor market than the one we’re seeing today,” Jared Bernstein, a member of Mr. Biden’s Council of Economic Advisers, said in an interview. “It is accomplishing something that is at the absolute core of Biden-nomics, which is providing bargaining clout to middle- and low-wage workers at a level that we haven’t seen in decades.”\n",
            "But other measures suggest workers are correctly perceiving a slowdown or reversal in their real wage gains. An analysis by Jason Furman of Harvard University, a former top economist for President Barack Obama, shows most workers have seen slowing inflation-adjusted wage gains — or even wage declines — that have worsened as price increases heated up this year. Friday’s Consumer Price Index underscored the point, showing surging prices for rent, cars, gasoline and household staples like cereal and eggs.\n",
            "“The real economy is doing quite well both in absolute terms and somewhat well relative to expectations,” Mr. Furman said in an email. “Inflation and real wages, however, are terrible.”\n"
          ]
        }
      ]
    },
    {
      "cell_type": "code",
      "source": [
        "maintext = article.maintext"
      ],
      "metadata": {
        "id": "qST3qmQ1weT-"
      },
      "execution_count": 3,
      "outputs": []
    },
    {
      "cell_type": "markdown",
      "source": [
        "## **Summarize Article**"
      ],
      "metadata": {
        "id": "kEEE1Wygx78d"
      }
    },
    {
      "cell_type": "code",
      "source": [
        "!pip install bert-extractive-summarizer"
      ],
      "metadata": {
        "id": "V07vyZPOzjkq"
      },
      "execution_count": null,
      "outputs": []
    },
    {
      "cell_type": "code",
      "source": [
        "from summarizer import Summarizer\n",
        "model = Summarizer()"
      ],
      "metadata": {
        "id": "9A5rnKxw0opi"
      },
      "execution_count": null,
      "outputs": []
    },
    {
      "cell_type": "code",
      "source": [
        "result = model(maintext)"
      ],
      "metadata": {
        "id": "cvPujW8w0jIn"
      },
      "execution_count": 6,
      "outputs": []
    },
    {
      "cell_type": "code",
      "source": [
        "result"
      ],
      "metadata": {
        "colab": {
          "base_uri": "https://localhost:8080/",
          "height": 122
        },
        "id": "6rBbmw1_1BZE",
        "outputId": "7723744a-2497-4104-d692-00661726b10f"
      },
      "execution_count": 7,
      "outputs": [
        {
          "output_type": "execute_result",
          "data": {
            "application/vnd.google.colaboratory.intrinsic+json": {
              "type": "string"
            },
            "text/plain": [
              "'Polls suggest that the disconnect between the president’s view of the economy and that of voters could pose political problems for Mr. Biden and fellow Democrats in the 2022 elections. They see the economy showing signs of what liberal economists have long said is the recipe for delivering the full gains of economic growth to low-paid and middle-class workers, even after factoring in rising prices. Administration aides read those statistics, and some survey data like Americans’ belief that jobs are plentiful, as evidence that people are happier with their economic situations than would be expected from reading and watching what they call unbalanced coverage of the economy in the news media.'"
            ]
          },
          "metadata": {},
          "execution_count": 7
        }
      ]
    },
    {
      "cell_type": "markdown",
      "source": [
        "## **Apply Neural Coref.**"
      ],
      "metadata": {
        "id": "F_BN82xRxlAu"
      }
    },
    {
      "cell_type": "code",
      "source": [
        "!pip install spacy==2.1.0"
      ],
      "metadata": {
        "id": "AEdC2bHiuR5q"
      },
      "execution_count": null,
      "outputs": []
    },
    {
      "cell_type": "code",
      "source": [
        "!python -m spacy download en"
      ],
      "metadata": {
        "id": "wWjDr-5FwRpE"
      },
      "execution_count": null,
      "outputs": []
    },
    {
      "cell_type": "code",
      "source": [
        "!pip install neuralcoref"
      ],
      "metadata": {
        "id": "GWTlEmZ6wSre"
      },
      "execution_count": null,
      "outputs": []
    },
    {
      "cell_type": "code",
      "source": [
        "import spacy\n",
        "import neuralcoref"
      ],
      "metadata": {
        "id": "Jiv0mrFJwUvf"
      },
      "execution_count": 11,
      "outputs": []
    },
    {
      "cell_type": "code",
      "source": [
        "nlp = spacy.load('en')"
      ],
      "metadata": {
        "id": "NkSyFyWwwWxy"
      },
      "execution_count": 12,
      "outputs": []
    },
    {
      "cell_type": "code",
      "source": [
        "neuralcoref.add_to_pipe(nlp)"
      ],
      "metadata": {
        "id": "ByjRZcywwYPR"
      },
      "execution_count": null,
      "outputs": []
    },
    {
      "cell_type": "code",
      "source": [
        "doc = nlp(result)"
      ],
      "metadata": {
        "id": "JAyAwBOxwaI6"
      },
      "execution_count": 14,
      "outputs": []
    },
    {
      "cell_type": "code",
      "source": [
        "doc._.coref_resolved"
      ],
      "metadata": {
        "colab": {
          "base_uri": "https://localhost:8080/",
          "height": 140
        },
        "id": "8DTgZaPMyRQg",
        "outputId": "309a27d5-4246-4eac-9349-2a79b33e4d11"
      },
      "execution_count": 15,
      "outputs": [
        {
          "output_type": "execute_result",
          "data": {
            "application/vnd.google.colaboratory.intrinsic+json": {
              "type": "string"
            },
            "text/plain": [
              "'Polls suggest that the disconnect between the president’s view of the economy and that of voters could pose political problems for Mr. Biden and fellow Democrats in the 2022 elections. the disconnect between the president’s view of the economy and that of voters could pose political problems for Mr. Biden and fellow Democrats in the 2022 elections see the economy showing signs of what liberal economists have long said is the recipe for delivering the full gains of economic growth to low-paid and middle-class workers, even after factoring in rising prices. Administration aides read those statistics, and some survey data like Americans’ belief that jobs are plentiful, as evidence that people are happier with people economic situations than would be expected from reading and watching what people call unbalanced coverage of the economy in the news media.'"
            ]
          },
          "metadata": {},
          "execution_count": 15
        }
      ]
    },
    {
      "cell_type": "code",
      "source": [
        "doc._.coref_clusters"
      ],
      "metadata": {
        "colab": {
          "base_uri": "https://localhost:8080/"
        },
        "id": "WQQcOsVfyUe-",
        "outputId": "0d751b4f-fa82-4a20-d74c-4dc3c407dd83"
      },
      "execution_count": 16,
      "outputs": [
        {
          "output_type": "execute_result",
          "data": {
            "text/plain": [
              "[the economy: [the economy, the economy, the economy],\n",
              " the disconnect between the president’s view of the economy and that of voters could pose political problems for Mr. Biden and fellow Democrats in the 2022 elections: [the disconnect between the president’s view of the economy and that of voters could pose political problems for Mr. Biden and fellow Democrats in the 2022 elections, They],\n",
              " people: [people, their, they]]"
            ]
          },
          "metadata": {},
          "execution_count": 16
        }
      ]
    }
  ]
}