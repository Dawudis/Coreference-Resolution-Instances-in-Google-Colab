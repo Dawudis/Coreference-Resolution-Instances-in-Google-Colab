{
  "nbformat": 4,
  "nbformat_minor": 0,
  "metadata": {
    "colab": {
      "name": "AllenNLP Coreference Resolution",
      "provenance": [],
      "collapsed_sections": [],
      "authorship_tag": "ABX9TyPM8pCHr9Mmfb4XbiMZsW+K",
      "include_colab_link": true
    },
    "kernelspec": {
      "name": "python3",
      "display_name": "Python 3"
    },
    "language_info": {
      "name": "python"
    }
  },
  "cells": [
    {
      "cell_type": "markdown",
      "metadata": {
        "id": "view-in-github",
        "colab_type": "text"
      },
      "source": [
        "<a href=\"https://colab.research.google.com/github/Dawudis/Coreference-Resolution-Instances-in-Google-Colab/blob/main/AllenNLP_Coreference_Resolution.ipynb\" target=\"_parent\"><img src=\"https://colab.research.google.com/assets/colab-badge.svg\" alt=\"Open In Colab\"/></a>"
      ]
    },
    {
      "cell_type": "code",
      "metadata": {
        "id": "DSUagIs3jL47"
      },
      "source": [
        "pip install allennlp==2.1.0 allennlp-models==2.1.0"
      ],
      "execution_count": null,
      "outputs": []
    },
    {
      "cell_type": "code",
      "metadata": {
        "id": "sm5IbFKGzTK4"
      },
      "source": [
        "from allennlp_models.pretrained import load_predictor\n",
        "predictor = load_predictor(\"coref-spanbert\")"
      ],
      "execution_count": null,
      "outputs": []
    },
    {
      "cell_type": "code",
      "metadata": {
        "colab": {
          "base_uri": "https://localhost:8080/"
        },
        "id": "eGFkLCcAzrVU",
        "outputId": "28427835-e39c-4aef-9556-8a0dae66c227"
      },
      "source": [
        "print(predictor.coref_resolved(\"Our economic woes are not going away anytime soon, and President Biden seems to be doing his best to prolong them. New restrictions on travel to the United States, especially for the transit of cargo, coupled with a newly emerged strain of COVID, may cause the frail economy to spiral into 2022.\"))"
      ],
      "execution_count": null,
      "outputs": [
        {
          "output_type": "stream",
          "name": "stdout",
          "text": [
            "Our economic woes are not going away anytime soon, and President Biden seems to be doing President Biden's best to prolong Our economic woes. New restrictions on travel to the United States, especially for the transit of cargo, coupled with a newly emerged strain of COVID, may cause the frail economy to spiral into 2022.\n"
          ]
        }
      ]
    }
  ]
}