{
  "nbformat": 4,
  "nbformat_minor": 0,
  "metadata": {
    "colab": {
      "name": "Spacy/HuggingFace NeuralCoref",
      "provenance": [],
      "authorship_tag": "ABX9TyM+lJOA0Lf1BkAcNqRf5EC2",
      "include_colab_link": true
    },
    "kernelspec": {
      "name": "python3",
      "display_name": "Python 3"
    },
    "language_info": {
      "name": "python"
    }
  },
  "cells": [
    {
      "cell_type": "markdown",
      "metadata": {
        "id": "view-in-github",
        "colab_type": "text"
      },
      "source": [
        "<a href=\"https://colab.research.google.com/github/Dawudis/Coreference-Resolution-Instances-in-Google-Colab/blob/main/Spacy_HuggingFace_NeuralCoref.ipynb\" target=\"_parent\"><img src=\"https://colab.research.google.com/assets/colab-badge.svg\" alt=\"Open In Colab\"/></a>"
      ]
    },
    {
      "cell_type": "code",
      "metadata": {
        "id": "aIRg4wfauda1"
      },
      "source": [
        "!pip install spacy==2.1.0"
      ],
      "execution_count": null,
      "outputs": []
    },
    {
      "cell_type": "code",
      "metadata": {
        "id": "1JwhSPX7v_1Q"
      },
      "source": [
        "!python -m spacy download en"
      ],
      "execution_count": null,
      "outputs": []
    },
    {
      "cell_type": "code",
      "metadata": {
        "id": "u-wG2nCM4BUk"
      },
      "source": [
        "!pip install neuralcoref"
      ],
      "execution_count": null,
      "outputs": []
    },
    {
      "cell_type": "code",
      "metadata": {
        "id": "pao9BpFMwIQg"
      },
      "source": [
        "import spacy\n",
        "import neuralcoref"
      ],
      "execution_count": null,
      "outputs": []
    },
    {
      "cell_type": "code",
      "metadata": {
        "id": "qJCRrG5B4jL-"
      },
      "source": [
        "nlp = spacy.load('en')"
      ],
      "execution_count": null,
      "outputs": []
    },
    {
      "cell_type": "code",
      "source": [
        "neuralcoref.add_to_pipe(nlp)"
      ],
      "metadata": {
        "id": "crnPUnw-HuDj"
      },
      "execution_count": null,
      "outputs": []
    },
    {
      "cell_type": "code",
      "metadata": {
        "id": "KZafWce94fz4"
      },
      "source": [
        "doc = nlp(\"Joe Biden put a lot of work into this bill. He didn't do much to help it's results though.\")"
      ],
      "execution_count": null,
      "outputs": []
    },
    {
      "cell_type": "code",
      "metadata": {
        "colab": {
          "base_uri": "https://localhost:8080/",
          "height": 35
        },
        "id": "yw1Olrhw45Sg",
        "outputId": "821db279-7976-4bd1-cefd-f0800d79b4f0"
      },
      "source": [
        "doc._.coref_resolved"
      ],
      "execution_count": null,
      "outputs": [
        {
          "output_type": "execute_result",
          "data": {
            "application/vnd.google.colaboratory.intrinsic+json": {
              "type": "string"
            },
            "text/plain": [
              "\"Joe Biden put a lot of work into this bill. Joe Biden didn't do much to help this bill's results though.\""
            ]
          },
          "metadata": {},
          "execution_count": 19
        }
      ]
    },
    {
      "cell_type": "code",
      "metadata": {
        "colab": {
          "base_uri": "https://localhost:8080/"
        },
        "id": "aHanmMMJ5AjH",
        "outputId": "cbe8051d-42bb-4366-d4f4-8c1afc663f41"
      },
      "source": [
        "doc._.coref_clusters"
      ],
      "execution_count": null,
      "outputs": [
        {
          "output_type": "execute_result",
          "data": {
            "text/plain": [
              "[Joe Biden: [Joe Biden, He], this bill: [this bill, it]]"
            ]
          },
          "metadata": {},
          "execution_count": 20
        }
      ]
    },
    {
      "cell_type": "code",
      "metadata": {
        "colab": {
          "base_uri": "https://localhost:8080/"
        },
        "id": "nwGsRQCp5Xfj",
        "outputId": "a551cb4c-e1b8-44fd-ee8d-6b784e7ccf5c"
      },
      "source": [
        "doc1 = nlp('Trump had a lot of money. However, he lost a lot of it.')\n",
        "for ent in doc1.ents:\n",
        "    print(ent._.coref_cluster)"
      ],
      "execution_count": null,
      "outputs": [
        {
          "output_type": "stream",
          "name": "stdout",
          "text": [
            "Trump: [Trump, he]\n"
          ]
        }
      ]
    }
  ]
}